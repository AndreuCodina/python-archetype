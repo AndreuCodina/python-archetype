{
 "cells": [
  {
   "cell_type": "code",
   "execution_count": 3,
   "metadata": {},
   "outputs": [
    {
     "data": {
      "text/plain": [
       "Product(id='64e938666fef44edb112a9c55f7d02db', create_date=datetime.datetime(2025, 9, 11, 16, 36, 54, 22022, tzinfo=datetime.timezone.utc), name='Sample Product', description=None, price=Decimal('9.99'), is_discontinued=False, discontinuation_reason=None)"
      ]
     },
     "execution_count": 3,
     "metadata": {},
     "output_type": "execute_result"
    }
   ],
   "source": [
    "from decimal import Decimal\n",
    "\n",
    "from python_archetype.domain.entities.product import Product\n",
    "\n",
    "Product(name=\"Sample Product\", price=Decimal(\"9.99\"), is_discontinued=False)"
   ]
  }
 ],
 "metadata": {
  "kernelspec": {
   "display_name": ".venv",
   "language": "python",
   "name": "python3"
  },
  "language_info": {
   "codemirror_mode": {
    "name": "ipython",
    "version": 3
   },
   "file_extension": ".py",
   "mimetype": "text/x-python",
   "name": "python",
   "nbconvert_exporter": "python",
   "pygments_lexer": "ipython3",
   "version": "3.12.1"
  }
 },
 "nbformat": 4,
 "nbformat_minor": 2
}
